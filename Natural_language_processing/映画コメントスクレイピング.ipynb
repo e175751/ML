{
 "cells": [
  {
   "cell_type": "code",
   "execution_count": 4,
   "metadata": {},
   "outputs": [],
   "source": [
    "from urllib.request import urlopen\n",
    "from urllib.error import HTTPError\n",
    "from bs4 import BeautifulSoup\n",
    "import time\n",
    "import MySQLdb"
   ]
  },
  {
   "cell_type": "code",
   "execution_count": 2,
   "metadata": {
    "scrolled": true
   },
   "outputs": [
    {
     "name": "stdout",
     "output_type": "stream",
     "text": [
      "\n",
      "ルルーシュが復活することによって、反逆のルルーシュの伏線が活きた形になり作品の厚みが高まった。復活ラストのL.L.の台詞に喚起されてC.C.との契約時のセリフを確認する為にTV版を1話から見返したが、結末を知ってから見るとバックボーンや細部の完成度が優れた作品だったと気付いた。最終回エンディグの絵の順番にも2人の不老不死の結末が含まれていたのには驚いた、気付かれなかったら無駄に終わるかもしれない伏線がこんなにもあったのか。見てる側に考えさせる作品も好みなのでTV版の最終回は好きだけど、やはり張った伏線を堂々と回収されると気持ちが良いものである。また僕は創作の恋愛に疎く、それでもルルーシュがC.C.を好きなのはR2の15話でさすがに分かったのだが、反逆を見返すと思ってたより初期から恋してたというのが理解できて面白かった、1期15話は特に恋愛色が強い回だ。契約→約束→プロポーズに繋がる2人の関係はとても綺麗だった。物語の構造を深く理解していた人からすると最終回でC.C.との約束の行方というしこりも無く既に完結してた作品だったのかもしれないが、鈍い僕からしたらルルーシュも、C.C.も、彼の物語も復活で完成されて、そして終わったんだ。\n"
     ]
    }
   ],
   "source": [
    "urls = \"https://movies.yahoo.co.jp\"\n",
    "next_urls = \"/movie/358894/review/1033/?c=1&sort=lrf\"\n",
    "\n",
    "html = urlopen(urls + next_urls)\n",
    "soup = BeautifulSoup(html,\"html.parser\")\n",
    "count = 0\n",
    "Previous_url = \"\"\n",
    "\n",
    "with open('test5.txt', 'w') as f:\n",
    "    while (20):\n",
    "        if(count < 20):\n",
    "            Previous_url = next_urls\n",
    "            review = soup(class_=\"text-small text-break text-readable p1em\")\n",
    "            for i in review:\n",
    "                print(i.text)\n",
    "                f.write(i.text)\n",
    "            class_link = soup.find_all(class_=\"listview__element--right-icon\")\n",
    "            for a in class_link:\n",
    "                next_urls = a.attrs['href']\n",
    "                html = urlopen(urls + next_urls)\n",
    "                soup = BeautifulSoup(html,\"html.parser\")\n",
    "            break\n",
    "        else:\n",
    "            count = 0 \n",
    "            time.sleep(5)\n",
    "        count += 1\n",
    "        "
   ]
  },
  {
   "cell_type": "code",
   "execution_count": 5,
   "metadata": {},
   "outputs": [],
   "source": [
    "urls_list=[\"/movie/365978/review/5129/?c=1&sort=lrf\",\"/movie/367278/review/413/?c=1&sort=lrf\",\"/movie/364942/review/870/?c=1&sort=lrf\",\n",
    "          \"/movie/364779/review/1066/?c=1&sort=lrf\",\"/movie/366398/review/3026/?c=1&sort=lrf\",\"/movie/363753/review/3106/?c=1&sort=lrf\",\n",
    "          \"/movie/358894/review/1033/?c=1&sort=lrf\",\"/movie/365575/review/3572/?c=1&sort=lrf\",\"/movie/364877/review/4117/?c=1&sort=lrf\",\n",
    "          \"/movie/365245/review/6693/?c=1&sort=lrf\",\"/movie/363668/review/2712/?c=1&sort=lrf\",\"/movie/363376/review/2117/?c=1&sort=lrf\",\n",
    "          \"/movie/365075/review/1857/?c=1&sort=lrf\",\"/movie/363360/review/3135/?c=1&sort=lrf\",\"/movie/364767/review/2456/?c=1&sort=lrf\",\n",
    "          \"/movie/364005/review/2030/?c=1&sort=lrf\",\"/movie/361463/review/1148/?c=1&sort=lrf\",\"/movie/364313/review/2401/?c=1&sort=lrf\",\n",
    "          \"/movie/364143/review/9191/?c=1&sort=lrf\",\"/movie/363528/review/1914/?c=1&sort=lrf\",\"/movie/363764/review/15267/?c=1&sort=lrf\",\n",
    "          \"/movie/363497/review/95/?c=1&sort=lrf\",\"/movie/362741/review/8476/?c=1&sort=lrf\",\"/movie/360845/review/913/?c=1&sort=lrf\",\n",
    "          \"/movie/361183/review/1388/?c=1&sort=lrf\",\"/movie/361759/review/3364/?c=1&sort=lrf\",\"/movie/358994/review/7442/?c=1&sort=lrf\",\n",
    "          \"/movie/358186/review/5116/?c=1&sort=lrf\",\"/movie/358670/review/9062/?c=1&sort=lrf\",\"/movie/344686/review/5239/?c=1&sort=lrf\",\n",
    "          \"/movie/326527/review/5459/?c=1&sort=lrf\",\"/movie/355058/review/63044/?c=1&sort=lrf\",\"/movie/354344/review/4507/?c=1&sort=lrf\",\n",
    "          \"/movie/366943/review/646/?c=1&sort=lrf\",\"/movie/361609/review/4245/?c=1&sort=lrf\"]"
   ]
  },
  {
   "cell_type": "code",
   "execution_count": 45,
   "metadata": {
    "scrolled": true
   },
   "outputs": [],
   "source": [
    "url_list=[\"/movie/364779/review/1066/?c=1&sort=lrf\",\n",
    "          \"/movie/366398/review/3026/?c=1&sort=lrf\",\n",
    "          \"/movie/363753/review/3106/?c=1&sort=lrf\"]"
   ]
  },
  {
   "cell_type": "code",
   "execution_count": 6,
   "metadata": {
    "scrolled": true
   },
   "outputs": [
    {
     "name": "stdout",
     "output_type": "stream",
     "text": [
      "finish\n"
     ]
    }
   ],
   "source": [
    "urls = \"https://movies.yahoo.co.jp\"\n",
    "count=0\n",
    "num=0\n",
    "num_count=0\n",
    "for i in urls_list:\n",
    "    time.sleep(60)\n",
    "    Previous_url = \"\"\n",
    "    next_urls = i\n",
    "    count+=1\n",
    "    html = urlopen(urls +next_urls)\n",
    "    soup = BeautifulSoup(html,\"html.parser\")\n",
    "    title = soup.find(\"title\")\n",
    "    movie_title = title.text\n",
    "    with open(\"movie_review\" + str(count).zfill(2) + \".txt\", \"w\") as f:\n",
    "        f.write(movie_title)\n",
    "        while(num_count==300 or Previous_url != next_urls):\n",
    "            if(num<30):\n",
    "                Previous_url = next_urls\n",
    "                review = soup(class_=\"text-small text-break text-readable p1em\")\n",
    "                for i in review:\n",
    "                    #print(i.text)\n",
    "                    f.write(i.text)\n",
    "                    class_link = soup.find_all(class_=\"listview__element--right-icon\")\n",
    "                for a in class_link:\n",
    "                    next_urls = a.attrs['href']\n",
    "                    html = urlopen(urls + next_urls)\n",
    "                    soup = BeautifulSoup(html,\"html.parser\")\n",
    "            else:\n",
    "                num=0\n",
    "                time.sleep(5)\n",
    "            num+=1\n",
    "            num_count+=1\n",
    "            \n",
    "print(\"finish\")"
   ]
  },
  {
   "cell_type": "code",
   "execution_count": null,
   "metadata": {},
   "outputs": [],
   "source": [
    "urls = \"https://movies.yahoo.co.jp\"\n",
    "next_urls = \"/movie/358894/review/1033/?c=1&sort=lrf\"\n",
    "\n",
    "html = urlopen(urls + next_urls)\n",
    "soup = BeautifulSoup(html,\"html.parser\")\n",
    "count = 0\n",
    "num_count=0\n",
    "Previous_url = \"\"\n",
    "reviews_list=[]\n",
    "\n",
    "while (num_count<100):\n",
    "    if(count < 20):\n",
    "        Previous_url = next_urls\n",
    "        review = soup(class_=\"text-small text-break text-readable p1em\")\n",
    "        for i in review:\n",
    "            print(i.text)\n",
    "            reviews_list.append(i.text)\n",
    "        class_link = soup.find_all(class_=\"listview__element--right-icon\")\n",
    "        for a in class_link:\n",
    "            next_urls = a.attrs['href']\n",
    "            html = urlopen(urls + next_urls)\n",
    "            soup = BeautifulSoup(html,\"html.parser\")\n",
    "    else:\n",
    "        count = 0 \n",
    "        time.sleep(5)\n",
    "    count += 1\n",
    "    num_count+=1"
   ]
  },
  {
   "cell_type": "code",
   "execution_count": null,
   "metadata": {},
   "outputs": [],
   "source": []
  },
  {
   "cell_type": "code",
   "execution_count": 50,
   "metadata": {},
   "outputs": [],
   "source": [
    "conn = MySQLdb.connect(\n",
    "    user = \"root\",\n",
    "    passwd = \"\",\n",
    "    host = \"localhost\",\n",
    "    db = \"test\"\n",
    ")\n",
    "\n",
    "cur = conn.cursor()"
   ]
  },
  {
   "cell_type": "code",
   "execution_count": null,
   "metadata": {},
   "outputs": [],
   "source": []
  },
  {
   "cell_type": "code",
   "execution_count": null,
   "metadata": {},
   "outputs": [],
   "source": []
  },
  {
   "cell_type": "code",
   "execution_count": null,
   "metadata": {},
   "outputs": [],
   "source": []
  },
  {
   "cell_type": "code",
   "execution_count": null,
   "metadata": {},
   "outputs": [],
   "source": []
  }
 ],
 "metadata": {
  "kernelspec": {
   "display_name": "Python 3",
   "language": "python",
   "name": "python3"
  },
  "language_info": {
   "codemirror_mode": {
    "name": "ipython",
    "version": 3
   },
   "file_extension": ".py",
   "mimetype": "text/x-python",
   "name": "python",
   "nbconvert_exporter": "python",
   "pygments_lexer": "ipython3",
   "version": "3.7.3"
  }
 },
 "nbformat": 4,
 "nbformat_minor": 2
}
